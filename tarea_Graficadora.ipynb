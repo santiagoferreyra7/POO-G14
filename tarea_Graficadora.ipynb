{
  "cells": [
    {
      "cell_type": "code",
      "execution_count": 1,
      "metadata": {
        "colab": {
          "base_uri": "https://localhost:8080/",
          "height": 663
        },
        "id": "bIuV1igRhFa6",
        "outputId": "68bf6178-0edb-477a-f7f1-cf31342396f5"
      },
      "outputs": [],
      "source": [
        "import numpy as np\n",
        "import matplotlib.pyplot as plt\n",
        "\n",
        "def polinomio_2do_grado(x, a, b, c):\n",
        "    return a*x**2 + b*x + c\n",
        "\n",
        "def funcion_seno(x, A, f):\n",
        "    return A * np.sin(2*np.pi*f*x)\n",
        "\n",
        "def funcion_coseno(x, A, f):\n",
        "    return A * np.cos(2*np.pi*f*x)\n",
        "\n",
        "def funcion_tangente(x, A, f):\n",
        "    return A * np.tan(2*np.pi*f*x)\n",
        "\n",
        "def inicio():\n",
        "    xi = float(input(\"Ingresa el valor inicial del intervalo (xi): \"))\n",
        "    xf = float(input(\"Ingresa el valor final del intervalo (xf): \"))\n",
        "    n = int(input(\"Ingresa el número de puntos (n) a generar en el intervalo: \"))\n",
        "\n",
        "    valores_x = np.linspace(xi, xf, n)\n",
        "\n",
        "    print(\"Selecciona la función que deseas graficar:\")\n",
        "    print(\"1. Polinomio de 2do grado\")\n",
        "    print(\"2. Función seno\")\n",
        "    print(\"3. Función coseno\")\n",
        "    print(\"4. Función tangente\")\n",
        "    seleccion = int(input(\"Ingresa tu elección (1/2/3/4): \"))\n",
        "\n",
        "    if seleccion == 1:\n",
        "        a = float(input(\"Ingresa el coeficiente cuadrático (a): \"))\n",
        "        b = float(input(\"Ingresa el coeficiente lineal (b): \"))\n",
        "        c = float(input(\"Ingresa el término independiente (c): \"))\n",
        "        valores_y = polinomio_2do_grado(valores_x, a, b, c)\n",
        "        nombre_funcion = \"Polinomio de 2do grado\"\n",
        "    elif seleccion == 2:\n",
        "        A = float(input(\"Ingresa la amplitud (A) del seno: \"))\n",
        "        f = float(input(\"Ingresa la frecuencia (f) del seno: \"))\n",
        "        valores_y = funcion_seno(valores_x, A, f)\n",
        "        nombre_funcion = \"Función seno\"\n",
        "    elif seleccion == 3:\n",
        "        A = float(input(\"Ingresa la amplitud (A) del coseno: \"))\n",
        "        f = float(input(\"Ingresa la frecuencia (f) del coseno: \"))\n",
        "        valores_y = funcion_coseno(valores_x, A, f)\n",
        "        nombre_funcion = \"Función coseno\"\n",
        "    elif seleccion == 4:\n",
        "        A = float(input(\"Ingresa la amplitud (A) de la tangente: \"))\n",
        "        f = float(input(\"Ingresa la frecuencia (f) de la tangente: \"))\n",
        "        valores_y = funcion_tangente(valores_x, A, f)\n",
        "        nombre_funcion = \"Función tangente\"\n",
        "    else:\n",
        "        print(\"Opción no válida.\")\n",
        "        return\n",
        "\n",
        "    plt.plot(valores_x, valores_y)\n",
        "    plt.title(f\"Graficando {nombre_funcion}\")\n",
        "    plt.xlabel(\"x\")\n",
        "    plt.ylabel(\"y\")\n",
        "    plt.grid(True)\n",
        "    plt.show()\n",
        "\n",
        "if __name__ == \"__main__\":\n",
        "    inicio()\n",
        "7"
      ]
    }
  ],
  "metadata": {
    "colab": {
      "provenance": []
    },
    "kernelspec": {
      "display_name": "Python 3",
      "name": "python3"
    },
    "language_info": {
      "codemirror_mode": {
        "name": "ipython",
        "version": 3
      },
      "file_extension": ".py",
      "mimetype": "text/x-python",
      "name": "python",
      "nbconvert_exporter": "python",
      "pygments_lexer": "ipython3",
      "version": "3.12.3"
    }
  },
  "nbformat": 4,
  "nbformat_minor": 0
}
