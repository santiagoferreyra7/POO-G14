{
  "nbformat": 4,
  "nbformat_minor": 0,
  "metadata": {
    "colab": {
      "provenance": []
    },
    "kernelspec": {
      "name": "python3",
      "display_name": "Python 3"
    },
    "language_info": {
      "name": "python"
    }
  },
  "cells": [
    {
      "cell_type": "code",
      "execution_count": null,
      "metadata": {
        "id": "sPuD2x0oKiZ6"
      },
      "outputs": [],
      "source": [
        "base = int(input(\"Ingrese la base del triangulo: \"))\n",
        "altura = int(input(\"Ingrese la altura del triangulo: \"))\n",
        "\n",
        "area = (base * altura) / 2\n",
        "print(\"El área es \", area)\n"
      ]
    },
    {
      "cell_type": "code",
      "source": [
        "numero = int(input(\"Ingresa un numero: \"))\n",
        "\n",
        "variable = numero % 2\n",
        "\n",
        "if variable == 0:\n",
        "    print(\"par\")\n",
        "else:\n",
        "    print(\"impar\")"
      ],
      "metadata": {
        "id": "hOrBwj4giAuv"
      },
      "execution_count": null,
      "outputs": []
    },
    {
      "cell_type": "code",
      "source": [
        "for i in range(1, 11):\n",
        "    print(i)"
      ],
      "metadata": {
        "id": "fVSMGnXBiG4s"
      },
      "execution_count": null,
      "outputs": []
    },
    {
      "cell_type": "code",
      "source": [
        "nombre = input(\"Ingresa tu nombre: \")\n",
        "\n",
        "print(\"Hola,\", nombre + \"!\")\n"
      ],
      "metadata": {
        "id": "kpxfYBSgiWQk"
      },
      "execution_count": null,
      "outputs": []
    }
  ]
}