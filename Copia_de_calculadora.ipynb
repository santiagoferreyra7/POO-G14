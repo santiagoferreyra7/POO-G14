{
  "nbformat": 4,
  "nbformat_minor": 0,
  "metadata": {
    "colab": {
      "provenance": []
    },
    "kernelspec": {
      "name": "python3",
      "display_name": "Python 3"
    },
    "language_info": {
      "name": "python"
    }
  },
  "cells": [
    {
      "cell_type": "code",
      "execution_count": null,
      "metadata": {
        "colab": {
          "base_uri": "https://localhost:8080/"
        },
        "id": "KHcZD8Tlt3Dm",
        "outputId": "64bec251-97b9-44d9-fb36-b28d2ee1119c"
      },
      "outputs": [
        {
          "name": "stdout",
          "output_type": "stream",
          "text": [
            "Elegi una opción: suma, resta, división, multiplicación\n",
            "Selecciona una opción o escribe 'salir' para terminar: suma\n",
            "Selecciona un número: 3\n",
            "Selecciona otro número: 4\n",
            "El resultado de la suma es: 7\n",
            "Elegi una opción: suma, resta, división, multiplicación\n",
            "Selecciona una opción o escribe 'salir' para terminar: 5\n",
            "Selecciona un número: 0\n",
            "Selecciona otro número: 4\n",
            "Opción no válida. Por favor, elige una opción válida.\n",
            "Elegi una opción: suma, resta, división, multiplicación\n",
            "Selecciona una opción o escribe 'salir' para terminar: división\n",
            "Selecciona un número: 4\n",
            "Selecciona otro número: 0\n",
            "Opción no válida. Por favor, elige una opción válida.\n",
            "Elegi una opción: suma, resta, división, multiplicación\n",
            "Selecciona una opción o escribe 'salir' para terminar: division\n"
          ]
        }
      ],
      "source": [
        "def suma(a, b):\n",
        "    resultado = a + b\n",
        "    return resultado\n",
        "\n",
        "def resta(a, b):\n",
        "    resultado = a - b\n",
        "    return resultado\n",
        "\n",
        "def division(a, b):\n",
        "    resultado = a / b\n",
        "    return resultado\n",
        "\n",
        "def multiplicacion(a, b):\n",
        "    resultado = a * b\n",
        "    return resultado\n",
        "\n",
        "while True:\n",
        "    print(\"Elegi una opción: suma, resta, división, multiplicación\")\n",
        "    texto = input(\"Selecciona una opción o escribe 'salir' para terminar: \")\n",
        "    if texto == \"salir\":\n",
        "        print(\"¡chau!\")\n",
        "        break\n",
        "    num1 = int(input(\"Selecciona un número: \"))\n",
        "    num2 = int(input(\"Selecciona otro número: \"))\n",
        "\n",
        "    if texto == \"suma\":\n",
        "        print(\"El resultado de la suma es:\", suma(num1, num2))\n",
        "    elif texto == \"resta\":\n",
        "        print(\"El resultado de la resta es:\", resta(num1, num2))\n",
        "    elif texto == \"multiplicacion\":\n",
        "        print(\"El resultado de la multiplicación es:\", multiplicacion(num1, num2))\n",
        "    elif texto == \"division\":\n",
        "        if num2 == 0:\n",
        "            print(\"No se puede dividir por cero.\")\n",
        "        else:\n",
        "            print(\"El resultado de la división es:\", division(num1, num2))\n",
        "    else:\n",
        "        print(\"Opción no válida. Por favor, elige una opción válida.\")"
      ]
    }
  ]
}