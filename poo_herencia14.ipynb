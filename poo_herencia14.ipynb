{
  "nbformat": 4,
  "nbformat_minor": 0,
  "metadata": {
    "colab": {
      "provenance": []
    },
    "kernelspec": {
      "name": "python3",
      "display_name": "Python 3"
    },
    "language_info": {
      "name": "python"
    }
  },
  "cells": [
    {
      "cell_type": "code",
      "execution_count": 3,
      "metadata": {
        "colab": {
          "base_uri": "https://localhost:8080/"
        },
        "id": "n06jDBUnMtis",
        "outputId": "1aede048-3c7e-41b6-cff8-f1b363a95104"
      },
      "outputs": [
        {
          "output_type": "stream",
          "name": "stdout",
          "text": [
            "santiago está caminando\n",
            "santiago está durmiendo\n",
            "santiago ferreyra intenta estudiarr\n",
            "santiago ferreyra está rindiendo un exameen\n"
          ]
        }
      ],
      "source": [
        "# Definición de la clase Persona\n",
        "class Persona:\n",
        "    def __init__(self, nombre, apellido, edad):\n",
        "        self.nombre = nombre\n",
        "        self.apellido = apellido\n",
        "        self.edad = edad\n",
        "\n",
        "    def caminar(self):\n",
        "        print(f\"{self.nombre} está caminando\")\n",
        "\n",
        "    def dormir(self):\n",
        "        print(f\"{self.nombre} está durmiendo\")\n",
        "\n",
        "# Definición de la clase Estudiante que hereda de Persona\n",
        "class Estudiante(Persona):\n",
        "    def __init__(self, nombre, apellido, edad, curso, modalidad):\n",
        "        super().__init__(nombre, apellido, edad)\n",
        "        self.curso = curso\n",
        "        self.modalidad = modalidad\n",
        "\n",
        "    def estudiar(self):\n",
        "        print(f\"{self.nombre} {self.apellido} intenta estudiarr\")\n",
        "\n",
        "    def rendir(self):\n",
        "        print(f\"{self.nombre} {self.apellido} está rindiendo un exameen\")\n",
        "\n",
        "# Crear una instancia de Estudiante\n",
        "estudiante1 = Estudiante(\"santiago\", \"ferreyra\", 17, \"5\", \"Presencial\")\n",
        "\n",
        "# Usar métodos de la instancia\n",
        "estudiante1.caminar()\n",
        "estudiante1.dormir()\n",
        "estudiante1.estudiar()\n",
        "estudiante1.rendir()\n"
      ]
    }
  ]
}